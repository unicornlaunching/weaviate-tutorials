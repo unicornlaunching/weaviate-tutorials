{
  "nbformat": 4,
  "nbformat_minor": 0,
  "metadata": {
    "colab": {
      "provenance": [],
      "authorship_tag": "ABX9TyOfE2GN9Bj30ZhFcFcP0WZx",
      "include_colab_link": true
    },
    "kernelspec": {
      "name": "python3",
      "display_name": "Python 3"
    },
    "language_info": {
      "name": "python"
    }
  },
  "cells": [
    {
      "cell_type": "markdown",
      "metadata": {
        "id": "view-in-github",
        "colab_type": "text"
      },
      "source": [
        "<a href=\"https://colab.research.google.com/github/unicornlaunching/weaviate-tutorials/blob/main/ai_quickstart_weaviate_starting_from_scratch.ipynb\" target=\"_parent\"><img src=\"https://colab.research.google.com/assets/colab-badge.svg\" alt=\"Open In Colab\"/></a>"
      ]
    },
    {
      "cell_type": "markdown",
      "source": [
        "# What if we could create a viral twitterbot using AI & Weaviate?\n",
        "\n",
        "#### Click on the picture below to watch the tutorial.\n",
        "\n",
        "---"
      ],
      "metadata": {
        "id": "3xxdT8xtABVh"
      }
    },
    {
      "cell_type": "markdown",
      "source": [
        "[![Watch the video](https://github.com/unicornlaunching/weaviate-tutorials/blob/main/youtubethumbnailfortutorial.jpeg?raw=true)](https://www.youtube.com/watch?v=HRLVDHU_FVA)"
      ],
      "metadata": {
        "id": "jKf0ELW9GaDc"
      }
    },
    {
      "cell_type": "markdown",
      "source": [
        "# Step 1: Create a Weaviate Account and create a Weaviate Cloud Cluster\n",
        "\n",
        "You can start by visiting https://console.weaviate.cloud/ and create a Weaviate Cluster to house your data."
      ],
      "metadata": {
        "id": "0QVrJNiyAU7i"
      }
    },
    {
      "cell_type": "markdown",
      "source": [
        "![Weaviate Cluster Creation](https://github.com/unicornlaunching/weaviate-tutorials/blob/main/Screen%20Shot%202023-10-15%20at%204.24.22%20PM.png?raw=true)"
      ],
      "metadata": {
        "id": "P2IUdg_DDV-d"
      }
    },
    {
      "cell_type": "markdown",
      "source": [
        "I got this [tutorial](https://weaviate.io/developers/weaviate/quickstart) from the docs on weaviate's site."
      ],
      "metadata": {
        "id": "5B7sQ2d6Eqqh"
      }
    },
    {
      "cell_type": "code",
      "execution_count": null,
      "metadata": {
        "id": "FB-YlFDj6LOO"
      },
      "outputs": [],
      "source": [
        "!pip install weaviate-client"
      ]
    },
    {
      "cell_type": "code",
      "source": [
        "import weaviate\n",
        "import json\n",
        "\n",
        "client = weaviate.Client(\n",
        "    url = \"INSERT_WEAVIATE_ENDPOINT_HERE\",  # Replace with your endpoint created in https://console.weaviate.cloud/dashboard\n",
        "    auth_client_secret=weaviate.AuthApiKey(api_key=\"INSERT_WEAVIATE_API_KEY_HERE\"),  # Replace w/ your Weaviate instance API key\n",
        "    additional_headers = {\n",
        "        \"X-OpenAI-Api-Key\": \"INSERT_OPENAI_API_KEY_HERE\"  # Replace with your OPENAI API key here\n",
        "    }\n",
        ")"
      ],
      "metadata": {
        "id": "m20yEMGa6TDC"
      },
      "execution_count": null,
      "outputs": []
    },
    {
      "cell_type": "markdown",
      "source": [
        "---"
      ],
      "metadata": {
        "id": "nHc1jt0hFTYZ"
      }
    },
    {
      "cell_type": "code",
      "source": [
        "class_obj = {\n",
        "    \"class\": \"Question\",\n",
        "    \"vectorizer\": \"text2vec-openai\",  # If set to \"none\" you must always provide vectors yourself. Could be any other \"text2vec-*\" also.\n",
        "    \"moduleConfig\": {\n",
        "        \"text2vec-openai\": {},\n",
        "        \"generative-openai\": {}  # Ensure the `generative-openai` module is used for generative queries\n",
        "    }\n",
        "}\n",
        "\n",
        "client.schema.create_class(class_obj)"
      ],
      "metadata": {
        "id": "Ynuhodyr6okg"
      },
      "execution_count": null,
      "outputs": []
    },
    {
      "cell_type": "markdown",
      "source": [
        "---"
      ],
      "metadata": {
        "id": "DESZ2EhtFU1D"
      }
    },
    {
      "cell_type": "code",
      "source": [
        "import requests\n",
        "resp = requests.get('https://raw.githubusercontent.com/weaviate-tutorials/quickstart/main/data/jeopardy_tiny.json')\n",
        "data = json.loads(resp.text)  # Load data\n",
        "\n",
        "client.batch.configure(batch_size=100)  # Configure batch\n",
        "with client.batch as batch:  # Initialize a batch process\n",
        "    for i, d in enumerate(data):  # Batch import data\n",
        "        print(f\"importing question: {i+1}\")\n",
        "        properties = {\n",
        "            \"answer\": d[\"Answer\"],\n",
        "            \"question\": d[\"Question\"],\n",
        "            \"category\": d[\"Category\"],\n",
        "        }\n",
        "        batch.add_data_object(\n",
        "            data_object=properties,\n",
        "            class_name=\"Question\"\n",
        "        )"
      ],
      "metadata": {
        "id": "GuWCHgkn6seT"
      },
      "execution_count": null,
      "outputs": []
    },
    {
      "cell_type": "markdown",
      "source": [
        "---"
      ],
      "metadata": {
        "id": "3oeobSWIFVoV"
      }
    },
    {
      "cell_type": "code",
      "source": [
        "response = (\n",
        "    client.query\n",
        "    .get(\"Question\", [\"question\", \"answer\", \"category\"])\n",
        "    .with_near_text({\"concepts\": [\"biology\"]})\n",
        "    .with_generate(single_prompt=\"Explain {answer} as you might to a five-year-old.\")\n",
        "    .with_limit(2)\n",
        "    .do()\n",
        ")\n",
        "\n",
        "print(json.dumps(response, indent=4))"
      ],
      "metadata": {
        "id": "p5LWJF5t-jQY"
      },
      "execution_count": null,
      "outputs": []
    },
    {
      "cell_type": "markdown",
      "source": [
        "---"
      ],
      "metadata": {
        "id": "8UxkoJUVFW28"
      }
    },
    {
      "cell_type": "code",
      "source": [
        "response = (\n",
        "    client.query\n",
        "    .get(\"Question\", [\"question\", \"answer\", \"category\"])\n",
        "    .with_near_text({\"concepts\": [\"science\"]})\n",
        "    .with_generate(single_prompt=\"Explain {answer} as you might to a five-year-old.\")\n",
        "    .with_limit(2)\n",
        "    .do()\n",
        ")\n",
        "\n",
        "print(json.dumps(response, indent=4))"
      ],
      "metadata": {
        "colab": {
          "base_uri": "https://localhost:8080/"
        },
        "id": "vcF07vfEDwGR",
        "outputId": "bb11b02b-7b09-4ab3-ba7f-a1f136c19614"
      },
      "execution_count": null,
      "outputs": [
        {
          "output_type": "stream",
          "name": "stdout",
          "text": [
            "{\n",
            "    \"data\": {\n",
            "        \"Get\": {\n",
            "            \"Question\": [\n",
            "                {\n",
            "                    \"_additional\": {\n",
            "                        \"generate\": {\n",
            "                            \"error\": null,\n",
            "                            \"singleResult\": \"Imagine you are running really fast, and the wind is blowing against your face. You can feel the wind pushing you back, right? Now, imagine you are running even faster, so fast that you are almost as fast as a speeding car. When you reach that super-fast speed, something interesting happens. The wind around you gets so strong that it becomes really hard for you to move forward. It's like a big wall of wind that stops you from going any faster. That wall of wind is called the sound barrier.\\n\\nYou see, sound is like tiny vibrations that travel through the air. When you make a sound, like clapping your hands, those vibrations move through the air and reach our ears, so we can hear it. But when something moves really, really fast, like an airplane or a race car, it can create so many vibrations that they start to pile up in front of it. It's like a big traffic jam of vibrations!\\n\\nWhen the object reaches the speed of sound, it's like crashing into that traffic jam. The vibrations can't move forward anymore, and they create a big shockwave. That shockwave makes a loud noise, like a big boom or a sonic boom. That's why when you see a really fast airplane, you might hear a loud noise when it flies by. It's breaking through the sound barrier and making a sonic boom!\\n\\nSo, the sound barrier is like a wall of wind that stops things from going faster than the speed of sound. It's a bit like when you run really fast and feel the wind pushing against you, but much, much stronger.\"\n",
            "                        }\n",
            "                    },\n",
            "                    \"answer\": \"Sound barrier\",\n",
            "                    \"category\": \"SCIENCE\",\n",
            "                    \"question\": \"In 70-degree air, a plane traveling at about 1,130 feet per second breaks it\"\n",
            "                },\n",
            "                {\n",
            "                    \"_additional\": {\n",
            "                        \"generate\": {\n",
            "                            \"error\": null,\n",
            "                            \"singleResult\": \"Imagine you are running really fast, and the wind is blowing against your face. You can feel the wind pushing you back, right? Now, imagine you are running even faster, so fast that you are almost as fast as a speeding car. When you run that fast, something interesting happens. The wind around you gets very, very strong and starts making a loud noise, like a big whoosh!\\n\\nThis loud noise is called a sound barrier. It's like a big wall of air that tries to stop you from going faster. It's called a barrier because it tries to block your way, just like a wall. But some special things happen when you try to break through this barrier.\\n\\nWhen you run super fast and try to break through the sound barrier, something amazing happens. You become so fast that you leave the loud noise behind you. It's like you are running away from the noise, and suddenly everything becomes very quiet. That's because you have broken through the sound barrier!\\n\\nBut why does this happen? Well, you see, sound is made up of tiny vibrations that travel through the air. When you run really fast, you create a lot of vibrations, and they all pile up in front of you. It's like a big traffic jam of vibrations! This pile of vibrations creates a lot of noise, and that's why you hear the loud whoosh when you try to break the sound barrier.\\n\\nBut when you finally break through, all those vibrations are left behind, and you can run super fast without making any noise. It's like you are running in a quiet bubble. That's why breaking the sound barrier is so special and exciting!\\n\\nSo, the sound barrier is like a big wall of air that tries to stop you from going faster. But if you run really, really fast, you can break through it and leave all the noise behind. It's like running away from a loud whoosh and entering a quiet bubble.\"\n",
            "                        }\n",
            "                    },\n",
            "                    \"answer\": \"Sound barrier\",\n",
            "                    \"category\": \"SCIENCE\",\n",
            "                    \"question\": \"In 70-degree air, a plane traveling at about 1,130 feet per second breaks it\"\n",
            "                }\n",
            "            ]\n",
            "        }\n",
            "    }\n",
            "}\n"
          ]
        }
      ]
    },
    {
      "cell_type": "markdown",
      "source": [
        "---"
      ],
      "metadata": {
        "id": "0QAdoxW-FYpo"
      }
    },
    {
      "cell_type": "code",
      "source": [
        "response = (\n",
        "    client.query\n",
        "    .get(\"Question\", [\"question\", \"answer\", \"category\"])\n",
        "    .with_near_text({\"concepts\": [\"science\"]})\n",
        "    .with_generate(grouped_task=\"Write a tweet with emojis about these facts.\")\n",
        "    .with_limit(2)\n",
        "    .do()\n",
        ")\n",
        "\n",
        "print(response[\"data\"][\"Get\"][\"Question\"][0][\"_additional\"][\"generate\"][\"groupedResult\"])"
      ],
      "metadata": {
        "colab": {
          "base_uri": "https://localhost:8080/"
        },
        "id": "LlJXfIFc6zdG",
        "outputId": "79361be3-3fa4-44b7-f715-a7ca96ebbd58"
      },
      "execution_count": null,
      "outputs": [
        {
          "output_type": "stream",
          "name": "stdout",
          "text": [
            "\"🛩️💨 Breaking the sound barrier! ✈️💥 Did you know that in 70-degree air, a plane traveling at about 1,130 feet per second can break it? 🌬️🔊 #ScienceFacts\"\n"
          ]
        }
      ]
    }
  ]
}